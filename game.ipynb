{
 "cells": [
  {
   "cell_type": "markdown",
   "metadata": {},
   "source": [
    "# Игра угадай число"
   ]
  },
  {
   "cell_type": "code",
   "execution_count": 10,
   "metadata": {},
   "outputs": [
    {
     "ename": "ImportError",
     "evalue": "cannot import name 'predict_1_2' from 'game_v2' (c:\\Projects\\Lerning\\SF\\Project_0\\game_v2.py)",
     "output_type": "error",
     "traceback": [
      "\u001b[1;31m---------------------------------------------------------------------------\u001b[0m",
      "\u001b[1;31mImportError\u001b[0m                               Traceback (most recent call last)",
      "Cell \u001b[1;32mIn[10], line 4\u001b[0m\n\u001b[0;32m      2\u001b[0m \u001b[39mfrom\u001b[39;00m \u001b[39mgame_v2\u001b[39;00m \u001b[39mimport\u001b[39;00m random_predict\n\u001b[0;32m      3\u001b[0m \u001b[39mfrom\u001b[39;00m \u001b[39mgame_v2\u001b[39;00m \u001b[39mimport\u001b[39;00m random_predict_opti\n\u001b[1;32m----> 4\u001b[0m \u001b[39mfrom\u001b[39;00m \u001b[39mgame_v2\u001b[39;00m \u001b[39mimport\u001b[39;00m predict_1_2\n",
      "\u001b[1;31mImportError\u001b[0m: cannot import name 'predict_1_2' from 'game_v2' (c:\\Projects\\Lerning\\SF\\Project_0\\game_v2.py)"
     ]
    }
   ],
   "source": [
    "from game_v2 import score_game\n",
    "from game_v2 import random_predict\n",
    "from game_v2 import random_predict_opti\n",
    "from game_v2 import predict_1_2"
   ]
  },
  {
   "cell_type": "markdown",
   "metadata": {},
   "source": [
    "## Угадываем рандомно"
   ]
  },
  {
   "cell_type": "code",
   "execution_count": 9,
   "metadata": {},
   "outputs": [
    {
     "name": "stdout",
     "output_type": "stream",
     "text": [
      "Ваш алгоритм угадывает число в среднем за:103 попыток\n",
      "Ваш алгоритм угадывает число в среднем за:7 попыток\n"
     ]
    },
    {
     "ename": "NameError",
     "evalue": "name 'predict_1_2' is not defined",
     "output_type": "error",
     "traceback": [
      "\u001b[1;31m---------------------------------------------------------------------------\u001b[0m",
      "\u001b[1;31mNameError\u001b[0m                                 Traceback (most recent call last)",
      "Cell \u001b[1;32mIn[9], line 3\u001b[0m\n\u001b[0;32m      1\u001b[0m score_game(random_predict)\n\u001b[0;32m      2\u001b[0m score_game(random_predict_opti)\n\u001b[1;32m----> 3\u001b[0m score_game(predict_1_2)\n",
      "\u001b[1;31mNameError\u001b[0m: name 'predict_1_2' is not defined"
     ]
    }
   ],
   "source": [
    "score_game(random_predict)\n",
    "score_game(random_predict_opti)\n",
    "score_game(predict_1_2)"
   ]
  }
 ],
 "metadata": {
  "kernelspec": {
   "display_name": "Python 3.9.13 64-bit",
   "language": "python",
   "name": "python3"
  },
  "language_info": {
   "codemirror_mode": {
    "name": "ipython",
    "version": 3
   },
   "file_extension": ".py",
   "mimetype": "text/x-python",
   "name": "python",
   "nbconvert_exporter": "python",
   "pygments_lexer": "ipython3",
   "version": "3.9.13"
  },
  "orig_nbformat": 4,
  "vscode": {
   "interpreter": {
    "hash": "0d591c6e422414675974e227c13f5382000c440fedd3c5006ef2be5d887f0ba7"
   }
  }
 },
 "nbformat": 4,
 "nbformat_minor": 2
}
